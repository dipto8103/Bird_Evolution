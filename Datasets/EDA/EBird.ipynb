{
 "cells": [
  {
   "cell_type": "code",
   "execution_count": 1,
   "id": "85a42b57",
   "metadata": {},
   "outputs": [],
   "source": [
    "import numpy as np\n",
    "import matplotlib.pyplot as plt\n",
    "import pandas as pd\n",
    "import itertools\n",
    "import seaborn as sns"
   ]
  },
  {
   "cell_type": "code",
   "execution_count": 2,
   "id": "85ce29c4",
   "metadata": {},
   "outputs": [
    {
     "ename": "FileNotFoundError",
     "evalue": "[Errno 2] No such file or directory: 'C:\\\\Users\\\\Mahika\\\\Desktop\\\\NMIMS\\\\Sem 7\\\\RL\\\\project\\\\ELEData\\\\ELEData\\\\TraitData\\\\AVONET3_EBird.xlsx'",
     "output_type": "error",
     "traceback": [
      "\u001b[31m---------------------------------------------------------------------------\u001b[39m",
      "\u001b[31mFileNotFoundError\u001b[39m                         Traceback (most recent call last)",
      "\u001b[36mCell\u001b[39m\u001b[36m \u001b[39m\u001b[32mIn[2]\u001b[39m\u001b[32m, line 2\u001b[39m\n\u001b[32m      1\u001b[39m file_path = \u001b[33m'\u001b[39m\u001b[33mC:\u001b[39m\u001b[38;5;130;01m\\\\\u001b[39;00m\u001b[33mUsers\u001b[39m\u001b[38;5;130;01m\\\\\u001b[39;00m\u001b[33mMahika\u001b[39m\u001b[38;5;130;01m\\\\\u001b[39;00m\u001b[33mDesktop\u001b[39m\u001b[38;5;130;01m\\\\\u001b[39;00m\u001b[33mNMIMS\u001b[39m\u001b[38;5;130;01m\\\\\u001b[39;00m\u001b[33mSem 7\u001b[39m\u001b[38;5;130;01m\\\\\u001b[39;00m\u001b[33mRL\u001b[39m\u001b[38;5;130;01m\\\\\u001b[39;00m\u001b[33mproject\u001b[39m\u001b[38;5;130;01m\\\\\u001b[39;00m\u001b[33mELEData\u001b[39m\u001b[38;5;130;01m\\\\\u001b[39;00m\u001b[33mELEData\u001b[39m\u001b[38;5;130;01m\\\\\u001b[39;00m\u001b[33mTraitData\u001b[39m\u001b[38;5;130;01m\\\\\u001b[39;00m\u001b[33mAVONET3_EBird.xlsx\u001b[39m\u001b[33m'\u001b[39m\n\u001b[32m----> \u001b[39m\u001b[32m2\u001b[39m df = \u001b[43mpd\u001b[49m\u001b[43m.\u001b[49m\u001b[43mread_excel\u001b[49m\u001b[43m(\u001b[49m\u001b[43mfile_path\u001b[49m\u001b[43m,\u001b[49m\u001b[43m \u001b[49m\u001b[43msheet_name\u001b[49m\u001b[43m=\u001b[49m\u001b[33;43m'\u001b[39;49m\u001b[33;43mAVONET3_BirdTree\u001b[39;49m\u001b[33;43m'\u001b[39;49m\u001b[43m)\u001b[49m\n\u001b[32m      3\u001b[39m df.head()\n",
      "\u001b[36mFile \u001b[39m\u001b[32mc:\\Users\\Mahika\\AppData\\Local\\Programs\\Python\\Python313\\Lib\\site-packages\\pandas\\io\\excel\\_base.py:495\u001b[39m, in \u001b[36mread_excel\u001b[39m\u001b[34m(io, sheet_name, header, names, index_col, usecols, dtype, engine, converters, true_values, false_values, skiprows, nrows, na_values, keep_default_na, na_filter, verbose, parse_dates, date_parser, date_format, thousands, decimal, comment, skipfooter, storage_options, dtype_backend, engine_kwargs)\u001b[39m\n\u001b[32m    493\u001b[39m \u001b[38;5;28;01mif\u001b[39;00m \u001b[38;5;129;01mnot\u001b[39;00m \u001b[38;5;28misinstance\u001b[39m(io, ExcelFile):\n\u001b[32m    494\u001b[39m     should_close = \u001b[38;5;28;01mTrue\u001b[39;00m\n\u001b[32m--> \u001b[39m\u001b[32m495\u001b[39m     io = \u001b[43mExcelFile\u001b[49m\u001b[43m(\u001b[49m\n\u001b[32m    496\u001b[39m \u001b[43m        \u001b[49m\u001b[43mio\u001b[49m\u001b[43m,\u001b[49m\n\u001b[32m    497\u001b[39m \u001b[43m        \u001b[49m\u001b[43mstorage_options\u001b[49m\u001b[43m=\u001b[49m\u001b[43mstorage_options\u001b[49m\u001b[43m,\u001b[49m\n\u001b[32m    498\u001b[39m \u001b[43m        \u001b[49m\u001b[43mengine\u001b[49m\u001b[43m=\u001b[49m\u001b[43mengine\u001b[49m\u001b[43m,\u001b[49m\n\u001b[32m    499\u001b[39m \u001b[43m        \u001b[49m\u001b[43mengine_kwargs\u001b[49m\u001b[43m=\u001b[49m\u001b[43mengine_kwargs\u001b[49m\u001b[43m,\u001b[49m\n\u001b[32m    500\u001b[39m \u001b[43m    \u001b[49m\u001b[43m)\u001b[49m\n\u001b[32m    501\u001b[39m \u001b[38;5;28;01melif\u001b[39;00m engine \u001b[38;5;129;01mand\u001b[39;00m engine != io.engine:\n\u001b[32m    502\u001b[39m     \u001b[38;5;28;01mraise\u001b[39;00m \u001b[38;5;167;01mValueError\u001b[39;00m(\n\u001b[32m    503\u001b[39m         \u001b[33m\"\u001b[39m\u001b[33mEngine should not be specified when passing \u001b[39m\u001b[33m\"\u001b[39m\n\u001b[32m    504\u001b[39m         \u001b[33m\"\u001b[39m\u001b[33man ExcelFile - ExcelFile already has the engine set\u001b[39m\u001b[33m\"\u001b[39m\n\u001b[32m    505\u001b[39m     )\n",
      "\u001b[36mFile \u001b[39m\u001b[32mc:\\Users\\Mahika\\AppData\\Local\\Programs\\Python\\Python313\\Lib\\site-packages\\pandas\\io\\excel\\_base.py:1550\u001b[39m, in \u001b[36mExcelFile.__init__\u001b[39m\u001b[34m(self, path_or_buffer, engine, storage_options, engine_kwargs)\u001b[39m\n\u001b[32m   1548\u001b[39m     ext = \u001b[33m\"\u001b[39m\u001b[33mxls\u001b[39m\u001b[33m\"\u001b[39m\n\u001b[32m   1549\u001b[39m \u001b[38;5;28;01melse\u001b[39;00m:\n\u001b[32m-> \u001b[39m\u001b[32m1550\u001b[39m     ext = \u001b[43minspect_excel_format\u001b[49m\u001b[43m(\u001b[49m\n\u001b[32m   1551\u001b[39m \u001b[43m        \u001b[49m\u001b[43mcontent_or_path\u001b[49m\u001b[43m=\u001b[49m\u001b[43mpath_or_buffer\u001b[49m\u001b[43m,\u001b[49m\u001b[43m \u001b[49m\u001b[43mstorage_options\u001b[49m\u001b[43m=\u001b[49m\u001b[43mstorage_options\u001b[49m\n\u001b[32m   1552\u001b[39m \u001b[43m    \u001b[49m\u001b[43m)\u001b[49m\n\u001b[32m   1553\u001b[39m     \u001b[38;5;28;01mif\u001b[39;00m ext \u001b[38;5;129;01mis\u001b[39;00m \u001b[38;5;28;01mNone\u001b[39;00m:\n\u001b[32m   1554\u001b[39m         \u001b[38;5;28;01mraise\u001b[39;00m \u001b[38;5;167;01mValueError\u001b[39;00m(\n\u001b[32m   1555\u001b[39m             \u001b[33m\"\u001b[39m\u001b[33mExcel file format cannot be determined, you must specify \u001b[39m\u001b[33m\"\u001b[39m\n\u001b[32m   1556\u001b[39m             \u001b[33m\"\u001b[39m\u001b[33man engine manually.\u001b[39m\u001b[33m\"\u001b[39m\n\u001b[32m   1557\u001b[39m         )\n",
      "\u001b[36mFile \u001b[39m\u001b[32mc:\\Users\\Mahika\\AppData\\Local\\Programs\\Python\\Python313\\Lib\\site-packages\\pandas\\io\\excel\\_base.py:1402\u001b[39m, in \u001b[36minspect_excel_format\u001b[39m\u001b[34m(content_or_path, storage_options)\u001b[39m\n\u001b[32m   1399\u001b[39m \u001b[38;5;28;01mif\u001b[39;00m \u001b[38;5;28misinstance\u001b[39m(content_or_path, \u001b[38;5;28mbytes\u001b[39m):\n\u001b[32m   1400\u001b[39m     content_or_path = BytesIO(content_or_path)\n\u001b[32m-> \u001b[39m\u001b[32m1402\u001b[39m \u001b[38;5;28;01mwith\u001b[39;00m \u001b[43mget_handle\u001b[49m\u001b[43m(\u001b[49m\n\u001b[32m   1403\u001b[39m \u001b[43m    \u001b[49m\u001b[43mcontent_or_path\u001b[49m\u001b[43m,\u001b[49m\u001b[43m \u001b[49m\u001b[33;43m\"\u001b[39;49m\u001b[33;43mrb\u001b[39;49m\u001b[33;43m\"\u001b[39;49m\u001b[43m,\u001b[49m\u001b[43m \u001b[49m\u001b[43mstorage_options\u001b[49m\u001b[43m=\u001b[49m\u001b[43mstorage_options\u001b[49m\u001b[43m,\u001b[49m\u001b[43m \u001b[49m\u001b[43mis_text\u001b[49m\u001b[43m=\u001b[49m\u001b[38;5;28;43;01mFalse\u001b[39;49;00m\n\u001b[32m   1404\u001b[39m \u001b[43m\u001b[49m\u001b[43m)\u001b[49m \u001b[38;5;28;01mas\u001b[39;00m handle:\n\u001b[32m   1405\u001b[39m     stream = handle.handle\n\u001b[32m   1406\u001b[39m     stream.seek(\u001b[32m0\u001b[39m)\n",
      "\u001b[36mFile \u001b[39m\u001b[32mc:\\Users\\Mahika\\AppData\\Local\\Programs\\Python\\Python313\\Lib\\site-packages\\pandas\\io\\common.py:882\u001b[39m, in \u001b[36mget_handle\u001b[39m\u001b[34m(path_or_buf, mode, encoding, compression, memory_map, is_text, errors, storage_options)\u001b[39m\n\u001b[32m    873\u001b[39m         handle = \u001b[38;5;28mopen\u001b[39m(\n\u001b[32m    874\u001b[39m             handle,\n\u001b[32m    875\u001b[39m             ioargs.mode,\n\u001b[32m   (...)\u001b[39m\u001b[32m    878\u001b[39m             newline=\u001b[33m\"\u001b[39m\u001b[33m\"\u001b[39m,\n\u001b[32m    879\u001b[39m         )\n\u001b[32m    880\u001b[39m     \u001b[38;5;28;01melse\u001b[39;00m:\n\u001b[32m    881\u001b[39m         \u001b[38;5;66;03m# Binary mode\u001b[39;00m\n\u001b[32m--> \u001b[39m\u001b[32m882\u001b[39m         handle = \u001b[38;5;28;43mopen\u001b[39;49m\u001b[43m(\u001b[49m\u001b[43mhandle\u001b[49m\u001b[43m,\u001b[49m\u001b[43m \u001b[49m\u001b[43mioargs\u001b[49m\u001b[43m.\u001b[49m\u001b[43mmode\u001b[49m\u001b[43m)\u001b[49m\n\u001b[32m    883\u001b[39m     handles.append(handle)\n\u001b[32m    885\u001b[39m \u001b[38;5;66;03m# Convert BytesIO or file objects passed with an encoding\u001b[39;00m\n",
      "\u001b[31mFileNotFoundError\u001b[39m: [Errno 2] No such file or directory: 'C:\\\\Users\\\\Mahika\\\\Desktop\\\\NMIMS\\\\Sem 7\\\\RL\\\\project\\\\ELEData\\\\ELEData\\\\TraitData\\\\AVONET3_EBird.xlsx'"
     ]
    }
   ],
   "source": [
    "file_path = 'C:\\\\Users\\\\Mahika\\\\Desktop\\\\NMIMS\\\\Sem 7\\\\RL\\\\project\\\\ELEData\\\\ELEData\\\\TraitData\\\\AVONET3_EBird.xlsx'\n",
    "df = pd.read_excel(file_path, sheet_name='AVONET3_BirdTree')\n",
    "df.head()"
   ]
  },
  {
   "cell_type": "code",
   "execution_count": null,
   "id": "10dbe2e6",
   "metadata": {},
   "outputs": [],
   "source": [
    "df.columns"
   ]
  },
  {
   "cell_type": "code",
   "execution_count": null,
   "id": "1ada883b",
   "metadata": {},
   "outputs": [],
   "source": [
    "df = df.drop(columns=['Mass.Source', 'Mass.Refs.Other', 'Inference', 'Traits.inferred', 'Reference.species'])\n",
    "df.columns = df.columns.str.strip()\n",
    "df = df.dropna()"
   ]
  },
  {
   "cell_type": "code",
   "execution_count": null,
   "id": "173e505e",
   "metadata": {},
   "outputs": [],
   "source": [
    "df.shape"
   ]
  },
  {
   "cell_type": "code",
   "execution_count": null,
   "id": "7d2931e2",
   "metadata": {},
   "outputs": [],
   "source": [
    "df.columns = df.columns.str.strip()\n",
    "df.columns"
   ]
  },
  {
   "cell_type": "code",
   "execution_count": null,
   "id": "5399b5be",
   "metadata": {},
   "outputs": [],
   "source": [
    "families_per_order = df.groupby('Order3')['Family3'].nunique().sort_values(ascending=False)\n",
    "\n",
    "colors = plt.cm.tab20.colors\n",
    "\n",
    "plt.figure(figsize=(12, 6))\n",
    "bars = plt.bar(families_per_order.index, families_per_order.values, color=colors[:len(families_per_order)])\n",
    "\n",
    "for bar in bars:\n",
    "    height = bar.get_height()\n",
    "    plt.text(\n",
    "        bar.get_x() + bar.get_width() / 2,\n",
    "        height,\n",
    "        f'{int(height)}',\n",
    "        ha='center',\n",
    "        va='bottom',\n",
    "        fontsize=10,\n",
    "        fontweight='bold'\n",
    "    )\n",
    "\n",
    "plt.ylabel('Number of Families')\n",
    "plt.title('Number of Families per Order')\n",
    "plt.xticks(rotation=45, ha='right')\n",
    "plt.tight_layout()\n",
    "plt.show()"
   ]
  },
  {
   "cell_type": "code",
   "execution_count": null,
   "id": "7172b1a8",
   "metadata": {},
   "outputs": [],
   "source": [
    "species_per_family = df.groupby('Family3')['Species3'].nunique().sort_values(ascending=False)\n",
    "\n",
    "colors = plt.cm.tab20.colors\n",
    "if len(species_per_family) > 20:\n",
    "    colors = list(itertools.islice(itertools.cycle(colors), len(species_per_family)))\n",
    "\n",
    "plt.figure(figsize=(14, 6))\n",
    "bars = plt.bar(species_per_family.index, species_per_family.values, color=colors)\n",
    "\n",
    "for bar in bars:\n",
    "    height = bar.get_height()\n",
    "    plt.text(\n",
    "        bar.get_x() + bar.get_width() / 2,\n",
    "        height,\n",
    "        f'{int(height)}',\n",
    "        ha='center',\n",
    "        va='bottom',\n",
    "        fontsize=9,\n",
    "        fontweight='bold'\n",
    "    )\n",
    "\n",
    "plt.ylabel('Number of Species')\n",
    "plt.title('Number of Species per Family')\n",
    "plt.xticks(rotation=45, ha='right')\n",
    "plt.tight_layout()\n",
    "plt.show()"
   ]
  },
  {
   "cell_type": "code",
   "execution_count": null,
   "id": "2a10eede",
   "metadata": {},
   "outputs": [],
   "source": [
    "df.columns"
   ]
  },
  {
   "cell_type": "code",
   "execution_count": null,
   "id": "b29d0fb7",
   "metadata": {},
   "outputs": [],
   "source": [
    "numerical_metric_groups = {\n",
    "    'Beak Measurements': ['Beak.Length_Culmen', 'Beak.Length_Nares', 'Beak.Width', 'Beak.Depth'],\n",
    "    #'Tarsus Length': ['Tarsus.Length'],\n",
    "    'Wing Measurements': ['Wing.Length', 'Kipps.Distance', 'Secondary1', 'Hand-Wing.Index'],\n",
    "    'Tail Length': ['Tail.Length'],\n",
    "    #'Mass': ['Mass'],\n",
    "    'Geographical Coordinates': ['Min.Latitude', 'Max.Latitude', 'Centroid.Latitude', 'Centroid.Longitude'],\n",
    "    'Individual Counts': ['Total.individuals', 'Female', 'Male', 'Unknown', 'Complete.measures']\n",
    "}"
   ]
  },
  {
   "cell_type": "code",
   "execution_count": null,
   "id": "f5a0a86a",
   "metadata": {},
   "outputs": [],
   "source": [
    "categorical_columns_for_freq = [\n",
    "    'Habitat',\n",
    "    'Habitat.Density',\n",
    "    'Migration',\n",
    "    'Trophic.Level',\n",
    "    'Trophic.Niche',\n",
    "    'Primary.Lifestyle',\n",
    "    'Species.Status'\n",
    "]"
   ]
  },
  {
   "cell_type": "code",
   "execution_count": null,
   "id": "6db6de3c",
   "metadata": {},
   "outputs": [],
   "source": [
    "print(\"\\n--- Correlation Analysis for Numerical Metric Groups ---\")\n",
    "for group_name, metrics in numerical_metric_groups.items():\n",
    "    current_numerical_metrics = [m for m in metrics if m in df.columns]\n",
    "\n",
    "    if not current_numerical_metrics:\n",
    "        print(f\"Skipping {group_name}: No relevant columns found in the DataFrame.\")\n",
    "        continue\n",
    "\n",
    "    numeric_group_df = df[current_numerical_metrics].copy()\n",
    "\n",
    "    correlation_matrix = numeric_group_df.corr()\n",
    "\n",
    "    print(f\"\\nCorrelation Matrix for {group_name}:\")\n",
    "    print(correlation_matrix.to_markdown(numalign=\"left\", stralign=\"left\"))"
   ]
  },
  {
   "cell_type": "code",
   "execution_count": null,
   "id": "b986165f",
   "metadata": {},
   "outputs": [],
   "source": [
    "plt.figure(figsize=(len(current_numerical_metrics)*1.5 + 2, len(current_numerical_metrics)*1.5))\n",
    "sns.heatmap(correlation_matrix, annot=True, cmap='coolwarm', fmt=\".2f\", linewidths=.5)\n",
    "plt.title(f'Correlation Matrix for {group_name}')\n",
    "plt.tight_layout()\n",
    "# plt.savefig(f'correlation_heatmap_{group_name.replace(\" \", \"_\").lower()}.png')\n",
    "plt.show()"
   ]
  },
  {
   "cell_type": "code",
   "execution_count": null,
   "id": "5896dee6",
   "metadata": {},
   "outputs": [],
   "source": [
    "print(\"\\n--- Frequency Analysis for Categorical Metrics ---\")\n",
    "for col_name in categorical_columns_for_freq:\n",
    "    if col_name in df.columns:\n",
    "        if (df[col_name].dtype == 'object' or col_name in ['Migration', 'Habitat.Density']) and df[col_name].nunique() < 50:\n",
    "            value_counts = df[col_name].value_counts()\n",
    "\n",
    "            n_categories = len(value_counts)\n",
    "            \n",
    "            colors_cat_map = plt.get_cmap('tab20') \n",
    "            palette = [colors_cat_map(i / (n_categories - 1) if n_categories > 1 else 0) for i in range(n_categories)] # Scale indices for palette, handle n_categories=1\n",
    "\n",
    "            plt.figure(figsize=(10, 6))\n",
    "            bars = sns.barplot(x=value_counts.index, y=value_counts.values, hue=value_counts.index, palette=palette, legend=False)\n",
    "            \n",
    "            for bar in bars.patches:\n",
    "                plt.text(\n",
    "                    bar.get_x() + bar.get_width() / 2,\n",
    "                    bar.get_height(),\n",
    "                    f'{int(bar.get_height())}',\n",
    "                    ha='center',\n",
    "                    va='bottom',\n",
    "                    fontsize=10,\n",
    "                    color='black'\n",
    "                )\n",
    "\n",
    "            plt.title(f'Frequency of {col_name}')\n",
    "            plt.xlabel(col_name)\n",
    "            plt.ylabel('Count')\n",
    "            plt.xticks(rotation=45, ha='right')\n",
    "            plt.tight_layout()\n",
    "            plt.show()\n",
    "        else:\n",
    "            print(f\"\\nSkipping frequency barplot for '{col_name}' as it appears to be numerical with many unique values or an unsupported categorical type ({df[col_name].nunique()} unique values).\")\n",
    "    else:\n",
    "        print(f\"Skipping '{col_name}': Column not found in the DataFrame.\")"
   ]
  },
  {
   "cell_type": "markdown",
   "id": "b6052d96",
   "metadata": {},
   "source": [
    "**Habitat Density:**\\\n",
    "1 = Dense habitats. Species primarily lives in the lower or middle storey of forest, or in dense thickets, dense shrubland etc.\\\n",
    "2 = Semi-open habitats. Species primarily lives in open shrubland, scattered bushes, parkland, low dry or deciduous forest, thorn forest.\\\n",
    "3 = Open habitats. Species primarily lives in desert, grassland, open water, low shrubs, rocky habitats, seashores, cities. Also applies to species living mainly on top of forest canopy (i.e. mostly in the open).\n",
    "\n",
    "**Migration:**\\\n",
    "1 = Sedentary.\\\n",
    "2 = Partially migratory, i.e. minority of population migrates long distances, or most of population undergoes short-distance migration, nomadic movements, distinct altitudinal migration, etc.\\\n",
    "3 = Migratory, i.e. majority of population undertakes long-distance migration."
   ]
  }
 ],
 "metadata": {
  "kernelspec": {
   "display_name": "Python 3",
   "language": "python",
   "name": "python3"
  },
  "language_info": {
   "codemirror_mode": {
    "name": "ipython",
    "version": 3
   },
   "file_extension": ".py",
   "mimetype": "text/x-python",
   "name": "python",
   "nbconvert_exporter": "python",
   "pygments_lexer": "ipython3",
   "version": "3.13.5"
  }
 },
 "nbformat": 4,
 "nbformat_minor": 5
}
